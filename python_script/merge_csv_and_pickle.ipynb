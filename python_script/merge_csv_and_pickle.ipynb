{
 "cells": [
  {
   "cell_type": "markdown",
   "metadata": {},
   "source": [
    "# **Cyclistic bike sharing case-study**  \n"
   ]
  },
  {
   "cell_type": "markdown",
   "metadata": {},
   "source": [
    "<img src='/Users/locco/Desktop/Google_Analytics_Course/Case_Studies/Case_Study_Bike_Sharing/python_script/cyclistic.png' width=”5” height=”5”>"
   ]
  },
  {
   "cell_type": "markdown",
   "metadata": {},
   "source": [
    "\n",
    "\n",
    "### **Data Cleaning and Modelling Notebook**"
   ]
  },
  {
   "cell_type": "markdown",
   "metadata": {},
   "source": [
    " **Author**: Karthik Bhaktha  \n",
    " **Created**: April 24th, 2022  \n",
    " **Data Source**: [Divvy](https://divvy-tripdata.s3.amazonaws.com/index.html)  \n",
    " **Data by**: Motivate International Inc. [License](https://www.divvybikes.com/data-license-agreement)  "
   ]
  },
  {
   "cell_type": "markdown",
   "metadata": {},
   "source": [
    "  The data source is a collection of 13 CSV files.  \n",
    "Each file contains one month of data covering 12 months from March 2021 to March 2022.  \n",
    "Purpose of this notebook is to create a master dataset that can be used to perform an analysis to answer the question:  \n",
    "**How do annual members and casual riders use Cyclistic bikes differently?**  \n",
    "This will help understand how we can employ strategy leading towards converstion of **casual** members into **annual** members.  \n",
    "According to the financial analyst doing so could lead to earning higher profits."
   ]
  },
  {
   "cell_type": "markdown",
   "metadata": {},
   "source": [
    "### Cleaning steps performed in this notebook:\n",
    "- Merge all CSV files into a single dataframe.\n",
    "- Create calculated columns: total_seconds and total_distance.\n",
    "- Check for data integrity.\n",
    "- Deal with null values."
   ]
  },
  {
   "cell_type": "code",
   "execution_count": 1,
   "metadata": {},
   "outputs": [],
   "source": [
    "import pandas as pd\n",
    "import missingno as msno #for visualizing null values\n",
    "import os\n",
    "import haversine as hs\n",
    "from haversine import Unit #for calculating distance using coordinates\n",
    "import datetime as dt\n",
    "import numpy as np"
   ]
  },
  {
   "cell_type": "markdown",
   "metadata": {},
   "source": [
    "Creating a function that reads the file path.    \n",
    "This function will return a list of 13 filenames.  \n",
    "Using the list to read and concatenate creating a master dataframe. "
   ]
  },
  {
   "cell_type": "code",
   "execution_count": 2,
   "metadata": {},
   "outputs": [],
   "source": [
    "'''\n",
    "    For the given path, get the List of all files in the directory tree \n",
    "'''\n",
    "def getListOfFiles(dirName):\n",
    "    # create a list of file and sub directories \n",
    "    # names in the given directory \n",
    "    listOfFile = os.listdir(dirName)\n",
    "    allFiles = list()\n",
    "    # Iterate over all the entries\n",
    "    for entry in listOfFile:\n",
    "        # Create full path\n",
    "        fullPath = os.path.join(dirName, entry)\n",
    "        # If entry is a directory then get the list of files in this directory \n",
    "        if os.path.isdir(fullPath):\n",
    "            allFiles = allFiles + getListOfFiles(fullPath)\n",
    "        else:\n",
    "            allFiles.append(fullPath)\n",
    "                \n",
    "    return allFiles"
   ]
  },
  {
   "cell_type": "markdown",
   "metadata": {},
   "source": [
    "The code below:  \n",
    "- Reads the file path\n",
    "- Concatenates the dataframe into a master dataframe."
   ]
  },
  {
   "cell_type": "code",
   "execution_count": 3,
   "metadata": {},
   "outputs": [],
   "source": [
    "#Creating the master dataframe\n",
    "path =  getListOfFiles('/Users/locco/Desktop/Google_Analytics_Course/Case_Studies/Bike_share_Data/bike_share_datasets_03-2021_to_03-2022')\n",
    "master_df = pd.concat(map(pd.read_csv,path), ignore_index= True)"
   ]
  },
  {
   "cell_type": "code",
   "execution_count": 4,
   "metadata": {},
   "outputs": [
    {
     "name": "stdout",
     "output_type": "stream",
     "text": [
      "<class 'pandas.core.frame.DataFrame'>\n",
      "RangeIndex: 5952028 entries, 0 to 5952027\n",
      "Data columns (total 13 columns):\n",
      " #   Column              Dtype  \n",
      "---  ------              -----  \n",
      " 0   ride_id             object \n",
      " 1   rideable_type       object \n",
      " 2   started_at          object \n",
      " 3   ended_at            object \n",
      " 4   start_station_name  object \n",
      " 5   start_station_id    object \n",
      " 6   end_station_name    object \n",
      " 7   end_station_id      object \n",
      " 8   start_lat           float64\n",
      " 9   start_lng           float64\n",
      " 10  end_lat             float64\n",
      " 11  end_lng             float64\n",
      " 12  member_casual       object \n",
      "dtypes: float64(4), object(9)\n",
      "memory usage: 590.3+ MB\n"
     ]
    },
    {
     "data": {
      "text/html": [
       "<div>\n",
       "<style scoped>\n",
       "    .dataframe tbody tr th:only-of-type {\n",
       "        vertical-align: middle;\n",
       "    }\n",
       "\n",
       "    .dataframe tbody tr th {\n",
       "        vertical-align: top;\n",
       "    }\n",
       "\n",
       "    .dataframe thead th {\n",
       "        text-align: right;\n",
       "    }\n",
       "</style>\n",
       "<table border=\"1\" class=\"dataframe\">\n",
       "  <thead>\n",
       "    <tr style=\"text-align: right;\">\n",
       "      <th></th>\n",
       "      <th>ride_id</th>\n",
       "      <th>rideable_type</th>\n",
       "      <th>started_at</th>\n",
       "      <th>ended_at</th>\n",
       "      <th>start_station_name</th>\n",
       "      <th>start_station_id</th>\n",
       "      <th>end_station_name</th>\n",
       "      <th>end_station_id</th>\n",
       "      <th>start_lat</th>\n",
       "      <th>start_lng</th>\n",
       "      <th>end_lat</th>\n",
       "      <th>end_lng</th>\n",
       "      <th>member_casual</th>\n",
       "    </tr>\n",
       "  </thead>\n",
       "  <tbody>\n",
       "    <tr>\n",
       "      <th>5952023</th>\n",
       "      <td>EF56D7D1D612AC11</td>\n",
       "      <td>electric_bike</td>\n",
       "      <td>2021-05-20 16:32:14</td>\n",
       "      <td>2021-05-20 16:35:39</td>\n",
       "      <td>Blackstone Ave &amp; Hyde Park Blvd</td>\n",
       "      <td>13398</td>\n",
       "      <td>NaN</td>\n",
       "      <td>NaN</td>\n",
       "      <td>41.802581</td>\n",
       "      <td>-87.590230</td>\n",
       "      <td>41.80000</td>\n",
       "      <td>-87.600000</td>\n",
       "      <td>member</td>\n",
       "    </tr>\n",
       "    <tr>\n",
       "      <th>5952024</th>\n",
       "      <td>745191CB9F21DE3C</td>\n",
       "      <td>classic_bike</td>\n",
       "      <td>2021-05-29 16:40:37</td>\n",
       "      <td>2021-05-29 17:22:37</td>\n",
       "      <td>Sheridan Rd &amp; Montrose Ave</td>\n",
       "      <td>TA1307000107</td>\n",
       "      <td>Michigan Ave &amp; Oak St</td>\n",
       "      <td>13042</td>\n",
       "      <td>41.961670</td>\n",
       "      <td>-87.654640</td>\n",
       "      <td>41.90096</td>\n",
       "      <td>-87.623777</td>\n",
       "      <td>casual</td>\n",
       "    </tr>\n",
       "    <tr>\n",
       "      <th>5952025</th>\n",
       "      <td>428575BAA5356BFF</td>\n",
       "      <td>electric_bike</td>\n",
       "      <td>2021-05-31 14:24:54</td>\n",
       "      <td>2021-05-31 14:31:38</td>\n",
       "      <td>Sheridan Rd &amp; Montrose Ave</td>\n",
       "      <td>TA1307000107</td>\n",
       "      <td>NaN</td>\n",
       "      <td>NaN</td>\n",
       "      <td>41.961525</td>\n",
       "      <td>-87.654651</td>\n",
       "      <td>41.95000</td>\n",
       "      <td>-87.650000</td>\n",
       "      <td>member</td>\n",
       "    </tr>\n",
       "    <tr>\n",
       "      <th>5952026</th>\n",
       "      <td>FC8A4A7AB7249662</td>\n",
       "      <td>electric_bike</td>\n",
       "      <td>2021-05-25 16:01:33</td>\n",
       "      <td>2021-05-25 16:07:37</td>\n",
       "      <td>Sheridan Rd &amp; Montrose Ave</td>\n",
       "      <td>TA1307000107</td>\n",
       "      <td>NaN</td>\n",
       "      <td>NaN</td>\n",
       "      <td>41.961654</td>\n",
       "      <td>-87.654721</td>\n",
       "      <td>41.98000</td>\n",
       "      <td>-87.660000</td>\n",
       "      <td>member</td>\n",
       "    </tr>\n",
       "    <tr>\n",
       "      <th>5952027</th>\n",
       "      <td>E873B8AA3EE84678</td>\n",
       "      <td>docked_bike</td>\n",
       "      <td>2021-05-12 12:22:14</td>\n",
       "      <td>2021-05-12 12:30:27</td>\n",
       "      <td>Sheridan Rd &amp; Montrose Ave</td>\n",
       "      <td>TA1307000107</td>\n",
       "      <td>Clark St &amp; Grace St</td>\n",
       "      <td>TA1307000127</td>\n",
       "      <td>41.961670</td>\n",
       "      <td>-87.654640</td>\n",
       "      <td>41.95078</td>\n",
       "      <td>-87.659172</td>\n",
       "      <td>casual</td>\n",
       "    </tr>\n",
       "  </tbody>\n",
       "</table>\n",
       "</div>"
      ],
      "text/plain": [
       "                  ride_id  rideable_type           started_at  \\\n",
       "5952023  EF56D7D1D612AC11  electric_bike  2021-05-20 16:32:14   \n",
       "5952024  745191CB9F21DE3C   classic_bike  2021-05-29 16:40:37   \n",
       "5952025  428575BAA5356BFF  electric_bike  2021-05-31 14:24:54   \n",
       "5952026  FC8A4A7AB7249662  electric_bike  2021-05-25 16:01:33   \n",
       "5952027  E873B8AA3EE84678    docked_bike  2021-05-12 12:22:14   \n",
       "\n",
       "                    ended_at               start_station_name  \\\n",
       "5952023  2021-05-20 16:35:39  Blackstone Ave & Hyde Park Blvd   \n",
       "5952024  2021-05-29 17:22:37       Sheridan Rd & Montrose Ave   \n",
       "5952025  2021-05-31 14:31:38       Sheridan Rd & Montrose Ave   \n",
       "5952026  2021-05-25 16:07:37       Sheridan Rd & Montrose Ave   \n",
       "5952027  2021-05-12 12:30:27       Sheridan Rd & Montrose Ave   \n",
       "\n",
       "        start_station_id       end_station_name end_station_id  start_lat  \\\n",
       "5952023            13398                    NaN            NaN  41.802581   \n",
       "5952024     TA1307000107  Michigan Ave & Oak St          13042  41.961670   \n",
       "5952025     TA1307000107                    NaN            NaN  41.961525   \n",
       "5952026     TA1307000107                    NaN            NaN  41.961654   \n",
       "5952027     TA1307000107    Clark St & Grace St   TA1307000127  41.961670   \n",
       "\n",
       "         start_lng   end_lat    end_lng member_casual  \n",
       "5952023 -87.590230  41.80000 -87.600000        member  \n",
       "5952024 -87.654640  41.90096 -87.623777        casual  \n",
       "5952025 -87.654651  41.95000 -87.650000        member  \n",
       "5952026 -87.654721  41.98000 -87.660000        member  \n",
       "5952027 -87.654640  41.95078 -87.659172        casual  "
      ]
     },
     "execution_count": 4,
     "metadata": {},
     "output_type": "execute_result"
    }
   ],
   "source": [
    "#checking the shape of master_df\n",
    "master_df.info()\n",
    "master_df.head()\n",
    "master_df.tail()"
   ]
  },
  {
   "cell_type": "markdown",
   "metadata": {},
   "source": [
    "Code below:\n",
    "- Loops throough each dataframe\n",
    "- finds the size of each csv file \n",
    "- calculates the total size"
   ]
  },
  {
   "cell_type": "code",
   "execution_count": 5,
   "metadata": {},
   "outputs": [
    {
     "name": "stdout",
     "output_type": "stream",
     "text": [
      "77376364 77376364\n"
     ]
    }
   ],
   "source": [
    "#checking if the merging csv was successful by comparing the size\n",
    "total = 0\n",
    "for i in range(len(path)):\n",
    "    df = pd.read_csv(path[i])\n",
    "    '''uncheck the comment below to confirm the size of each dtaframe'''\n",
    "    #print(\"Size = \", df.size, \"of path\", path[i])\n",
    "    total += df.size\n",
    "\n",
    "\n",
    "print(total, master_df.size)"
   ]
  },
  {
   "cell_type": "markdown",
   "metadata": {},
   "source": [
    "### Creating a new datafram called final to perform further operations without disturbing the master dataframe"
   ]
  },
  {
   "cell_type": "code",
   "execution_count": 6,
   "metadata": {},
   "outputs": [],
   "source": [
    "#creating a new df to store the datetime changes.\n",
    "final_df = master_df"
   ]
  },
  {
   "cell_type": "markdown",
   "metadata": {},
   "source": [
    "Checking for null rows in the final_df."
   ]
  },
  {
   "cell_type": "code",
   "execution_count": 7,
   "metadata": {},
   "outputs": [
    {
     "data": {
      "text/plain": [
       "ride_id                    0\n",
       "rideable_type              0\n",
       "started_at                 0\n",
       "ended_at                   0\n",
       "start_station_name    760224\n",
       "start_station_id      760221\n",
       "end_station_name      812974\n",
       "end_station_id        812974\n",
       "start_lat                  0\n",
       "start_lng                  0\n",
       "end_lat                 4883\n",
       "end_lng                 4883\n",
       "member_casual              0\n",
       "dtype: int64"
      ]
     },
     "execution_count": 7,
     "metadata": {},
     "output_type": "execute_result"
    }
   ],
   "source": [
    "final_df.isna().sum()"
   ]
  },
  {
   "cell_type": "markdown",
   "metadata": {},
   "source": [
    "We will drop columns with station name and station ID.  \n",
    "Also drop rows with null values from end_lat and end_lng."
   ]
  },
  {
   "cell_type": "code",
   "execution_count": 8,
   "metadata": {},
   "outputs": [
    {
     "name": "stdout",
     "output_type": "stream",
     "text": [
      "<class 'pandas.core.frame.DataFrame'>\n",
      "RangeIndex: 5952028 entries, 0 to 5952027\n",
      "Data columns (total 9 columns):\n",
      " #   Column         Dtype  \n",
      "---  ------         -----  \n",
      " 0   ride_id        object \n",
      " 1   rideable_type  object \n",
      " 2   started_at     object \n",
      " 3   ended_at       object \n",
      " 4   start_lat      float64\n",
      " 5   start_lng      float64\n",
      " 6   end_lat        float64\n",
      " 7   end_lng        float64\n",
      " 8   member_casual  object \n",
      "dtypes: float64(4), object(5)\n",
      "memory usage: 408.7+ MB\n"
     ]
    }
   ],
   "source": [
    "# removing the columns that wont be used in this analysis\n",
    "final_df.drop(columns=['start_station_name','start_station_id','end_station_name','end_station_id'], axis = 1, inplace = True)\n",
    "final_df.info()"
   ]
  },
  {
   "cell_type": "code",
   "execution_count": 9,
   "metadata": {},
   "outputs": [
    {
     "name": "stdout",
     "output_type": "stream",
     "text": [
      "<class 'pandas.core.frame.DataFrame'>\n",
      "Int64Index: 5947145 entries, 0 to 5952027\n",
      "Data columns (total 9 columns):\n",
      " #   Column         Dtype  \n",
      "---  ------         -----  \n",
      " 0   ride_id        object \n",
      " 1   rideable_type  object \n",
      " 2   started_at     object \n",
      " 3   ended_at       object \n",
      " 4   start_lat      float64\n",
      " 5   start_lng      float64\n",
      " 6   end_lat        float64\n",
      " 7   end_lng        float64\n",
      " 8   member_casual  object \n",
      "dtypes: float64(4), object(5)\n",
      "memory usage: 453.7+ MB\n"
     ]
    }
   ],
   "source": [
    "# removing the rows with null values\n",
    "final_df.dropna(subset=['end_lat', 'end_lng'], inplace=True)\n",
    "final_df.info()"
   ]
  },
  {
   "cell_type": "code",
   "execution_count": 10,
   "metadata": {},
   "outputs": [
    {
     "data": {
      "text/plain": [
       "ride_id          0\n",
       "rideable_type    0\n",
       "started_at       0\n",
       "ended_at         0\n",
       "start_lat        0\n",
       "start_lng        0\n",
       "end_lat          0\n",
       "end_lng          0\n",
       "member_casual    0\n",
       "dtype: int64"
      ]
     },
     "execution_count": 10,
     "metadata": {},
     "output_type": "execute_result"
    }
   ],
   "source": [
    "# checking for null values again after removing the columns and rows\n",
    "final_df.isna().sum()\n"
   ]
  },
  {
   "cell_type": "markdown",
   "metadata": {},
   "source": [
    "Converting the columns 'started_at', 'ended_at' from data type object to datetime.  \n",
    "This is to calculate the total time the bike was used for."
   ]
  },
  {
   "cell_type": "code",
   "execution_count": 11,
   "metadata": {},
   "outputs": [
    {
     "name": "stdout",
     "output_type": "stream",
     "text": [
      "<class 'pandas.core.frame.DataFrame'>\n",
      "Int64Index: 5947145 entries, 0 to 5952027\n",
      "Data columns (total 10 columns):\n",
      " #   Column         Dtype          \n",
      "---  ------         -----          \n",
      " 0   ride_id        object         \n",
      " 1   rideable_type  object         \n",
      " 2   started_at     datetime64[ns] \n",
      " 3   ended_at       datetime64[ns] \n",
      " 4   start_lat      float64        \n",
      " 5   start_lng      float64        \n",
      " 6   end_lat        float64        \n",
      " 7   end_lng        float64        \n",
      " 8   member_casual  object         \n",
      " 9   total_time     timedelta64[ns]\n",
      "dtypes: datetime64[ns](2), float64(4), object(3), timedelta64[ns](1)\n",
      "memory usage: 499.1+ MB\n"
     ]
    },
    {
     "data": {
      "text/html": [
       "<div>\n",
       "<style scoped>\n",
       "    .dataframe tbody tr th:only-of-type {\n",
       "        vertical-align: middle;\n",
       "    }\n",
       "\n",
       "    .dataframe tbody tr th {\n",
       "        vertical-align: top;\n",
       "    }\n",
       "\n",
       "    .dataframe thead th {\n",
       "        text-align: right;\n",
       "    }\n",
       "</style>\n",
       "<table border=\"1\" class=\"dataframe\">\n",
       "  <thead>\n",
       "    <tr style=\"text-align: right;\">\n",
       "      <th></th>\n",
       "      <th>ride_id</th>\n",
       "      <th>rideable_type</th>\n",
       "      <th>started_at</th>\n",
       "      <th>ended_at</th>\n",
       "      <th>start_lat</th>\n",
       "      <th>start_lng</th>\n",
       "      <th>end_lat</th>\n",
       "      <th>end_lng</th>\n",
       "      <th>member_casual</th>\n",
       "      <th>total_time</th>\n",
       "    </tr>\n",
       "  </thead>\n",
       "  <tbody>\n",
       "    <tr>\n",
       "      <th>0</th>\n",
       "      <td>9DC7B962304CBFD8</td>\n",
       "      <td>electric_bike</td>\n",
       "      <td>2021-09-28 16:07:10</td>\n",
       "      <td>2021-09-28 16:09:54</td>\n",
       "      <td>41.89</td>\n",
       "      <td>-87.68</td>\n",
       "      <td>41.89</td>\n",
       "      <td>-87.67</td>\n",
       "      <td>casual</td>\n",
       "      <td>0 days 00:02:44</td>\n",
       "    </tr>\n",
       "    <tr>\n",
       "      <th>1</th>\n",
       "      <td>F930E2C6872D6B32</td>\n",
       "      <td>electric_bike</td>\n",
       "      <td>2021-09-28 14:24:51</td>\n",
       "      <td>2021-09-28 14:40:05</td>\n",
       "      <td>41.94</td>\n",
       "      <td>-87.64</td>\n",
       "      <td>41.98</td>\n",
       "      <td>-87.67</td>\n",
       "      <td>casual</td>\n",
       "      <td>0 days 00:15:14</td>\n",
       "    </tr>\n",
       "    <tr>\n",
       "      <th>2</th>\n",
       "      <td>6EF72137900BB910</td>\n",
       "      <td>electric_bike</td>\n",
       "      <td>2021-09-28 00:20:16</td>\n",
       "      <td>2021-09-28 00:23:57</td>\n",
       "      <td>41.81</td>\n",
       "      <td>-87.72</td>\n",
       "      <td>41.80</td>\n",
       "      <td>-87.72</td>\n",
       "      <td>casual</td>\n",
       "      <td>0 days 00:03:41</td>\n",
       "    </tr>\n",
       "    <tr>\n",
       "      <th>3</th>\n",
       "      <td>78D1DE133B3DBF55</td>\n",
       "      <td>electric_bike</td>\n",
       "      <td>2021-09-28 14:51:17</td>\n",
       "      <td>2021-09-28 15:00:06</td>\n",
       "      <td>41.80</td>\n",
       "      <td>-87.72</td>\n",
       "      <td>41.81</td>\n",
       "      <td>-87.72</td>\n",
       "      <td>casual</td>\n",
       "      <td>0 days 00:08:49</td>\n",
       "    </tr>\n",
       "    <tr>\n",
       "      <th>4</th>\n",
       "      <td>E03D4ACDCAEF6E00</td>\n",
       "      <td>electric_bike</td>\n",
       "      <td>2021-09-28 09:53:12</td>\n",
       "      <td>2021-09-28 10:03:44</td>\n",
       "      <td>41.88</td>\n",
       "      <td>-87.74</td>\n",
       "      <td>41.88</td>\n",
       "      <td>-87.71</td>\n",
       "      <td>casual</td>\n",
       "      <td>0 days 00:10:32</td>\n",
       "    </tr>\n",
       "  </tbody>\n",
       "</table>\n",
       "</div>"
      ],
      "text/plain": [
       "            ride_id  rideable_type          started_at            ended_at  \\\n",
       "0  9DC7B962304CBFD8  electric_bike 2021-09-28 16:07:10 2021-09-28 16:09:54   \n",
       "1  F930E2C6872D6B32  electric_bike 2021-09-28 14:24:51 2021-09-28 14:40:05   \n",
       "2  6EF72137900BB910  electric_bike 2021-09-28 00:20:16 2021-09-28 00:23:57   \n",
       "3  78D1DE133B3DBF55  electric_bike 2021-09-28 14:51:17 2021-09-28 15:00:06   \n",
       "4  E03D4ACDCAEF6E00  electric_bike 2021-09-28 09:53:12 2021-09-28 10:03:44   \n",
       "\n",
       "   start_lat  start_lng  end_lat  end_lng member_casual      total_time  \n",
       "0      41.89     -87.68    41.89   -87.67        casual 0 days 00:02:44  \n",
       "1      41.94     -87.64    41.98   -87.67        casual 0 days 00:15:14  \n",
       "2      41.81     -87.72    41.80   -87.72        casual 0 days 00:03:41  \n",
       "3      41.80     -87.72    41.81   -87.72        casual 0 days 00:08:49  \n",
       "4      41.88     -87.74    41.88   -87.71        casual 0 days 00:10:32  "
      ]
     },
     "execution_count": 11,
     "metadata": {},
     "output_type": "execute_result"
    }
   ],
   "source": [
    "#typecasting 'started_at', 'ended_at' into datetime using .astype('datetime64[ns]) method.\n",
    "final_df.loc[:,['started_at', 'ended_at']] = final_df.loc[:,['started_at', 'ended_at']].astype('datetime64[ns]')\n",
    "\n",
    "#Creating a calculated column total_time = ended_at - started_at\n",
    "final_df['total_time'] = final_df.ended_at - final_df.started_at\n",
    "\n",
    "#confirming if the data type has changed\n",
    "final_df.info()\n",
    "#confirming if the type casting has not altered the columns\n",
    "final_df.head()"
   ]
  },
  {
   "cell_type": "markdown",
   "metadata": {},
   "source": [
    "As you can see the calculated column has resulted in a format that includes number of days and hh:mm:ss format.  \n",
    "We will be using only the total seconds the bike was ridden for. "
   ]
  },
  {
   "cell_type": "code",
   "execution_count": 12,
   "metadata": {},
   "outputs": [
    {
     "data": {
      "text/plain": [
       "'Improve this loop'"
      ]
     },
     "execution_count": 12,
     "metadata": {},
     "output_type": "execute_result"
    }
   ],
   "source": [
    "'''Improve this loop'''\n",
    "#calculating the duration of the ride in seconds and adding it to a new column.\n",
    "# for index, rows in final_df.iterrows():\n",
    "#     final_df.at[index, 'total_seconds'] = rows['total_time'].total_seconds()"
   ]
  },
  {
   "cell_type": "markdown",
   "metadata": {},
   "source": [
    "Extracting just the total_time column to make the loop run faster, \n",
    "this is because the loop does not read through all the columns in the dataframe."
   ]
  },
  {
   "cell_type": "code",
   "execution_count": 13,
   "metadata": {},
   "outputs": [
    {
     "name": "stdout",
     "output_type": "stream",
     "text": [
      "<class 'pandas.core.frame.DataFrame'>\n",
      "Int64Index: 5947145 entries, 0 to 5952027\n",
      "Data columns (total 1 columns):\n",
      " #   Column      Dtype          \n",
      "---  ------      -----          \n",
      " 0   total_time  timedelta64[ns]\n",
      "dtypes: timedelta64[ns](1)\n",
      "memory usage: 90.7 MB\n"
     ]
    }
   ],
   "source": [
    "# extracting total_time column from final_df\n",
    "total_time_df = final_df[['total_time']]\n",
    "total_time_df.info()"
   ]
  },
  {
   "cell_type": "code",
   "execution_count": 14,
   "metadata": {},
   "outputs": [],
   "source": [
    "'''Improved loop using dictionary iteration:'''\n",
    "time_list = []\n",
    "#calculating the duration of the ride in seconds and adding it to a new column.\n",
    "for rows in total_time_df.to_dict('records'):\n",
    "    time_list.append(rows['total_time'].total_seconds())\n",
    "\n",
    "total_time_dict = {'total_seconds':time_list}"
   ]
  },
  {
   "cell_type": "markdown",
   "metadata": {},
   "source": [
    "Total_time_dict is now a dictionary.  \n",
    "in the code cell below we will convert the dictinary into a datafrane and append it to the final_df."
   ]
  },
  {
   "cell_type": "code",
   "execution_count": 15,
   "metadata": {},
   "outputs": [
    {
     "name": "stdout",
     "output_type": "stream",
     "text": [
      "<class 'pandas.core.frame.DataFrame'>\n",
      "Int64Index: 5951997 entries, 0 to 5946153\n",
      "Data columns (total 11 columns):\n",
      " #   Column         Dtype          \n",
      "---  ------         -----          \n",
      " 0   ride_id        object         \n",
      " 1   rideable_type  object         \n",
      " 2   started_at     datetime64[ns] \n",
      " 3   ended_at       datetime64[ns] \n",
      " 4   start_lat      float64        \n",
      " 5   start_lng      float64        \n",
      " 6   end_lat        float64        \n",
      " 7   end_lng        float64        \n",
      " 8   member_casual  object         \n",
      " 9   total_time     timedelta64[ns]\n",
      " 10  total_seconds  float64        \n",
      "dtypes: datetime64[ns](2), float64(5), object(3), timedelta64[ns](1)\n",
      "memory usage: 544.9+ MB\n"
     ]
    },
    {
     "data": {
      "text/html": [
       "<div>\n",
       "<style scoped>\n",
       "    .dataframe tbody tr th:only-of-type {\n",
       "        vertical-align: middle;\n",
       "    }\n",
       "\n",
       "    .dataframe tbody tr th {\n",
       "        vertical-align: top;\n",
       "    }\n",
       "\n",
       "    .dataframe thead th {\n",
       "        text-align: right;\n",
       "    }\n",
       "</style>\n",
       "<table border=\"1\" class=\"dataframe\">\n",
       "  <thead>\n",
       "    <tr style=\"text-align: right;\">\n",
       "      <th></th>\n",
       "      <th>ride_id</th>\n",
       "      <th>rideable_type</th>\n",
       "      <th>started_at</th>\n",
       "      <th>ended_at</th>\n",
       "      <th>start_lat</th>\n",
       "      <th>start_lng</th>\n",
       "      <th>end_lat</th>\n",
       "      <th>end_lng</th>\n",
       "      <th>member_casual</th>\n",
       "      <th>total_time</th>\n",
       "      <th>total_seconds</th>\n",
       "    </tr>\n",
       "  </thead>\n",
       "  <tbody>\n",
       "    <tr>\n",
       "      <th>0</th>\n",
       "      <td>9DC7B962304CBFD8</td>\n",
       "      <td>electric_bike</td>\n",
       "      <td>2021-09-28 16:07:10</td>\n",
       "      <td>2021-09-28 16:09:54</td>\n",
       "      <td>41.89</td>\n",
       "      <td>-87.68</td>\n",
       "      <td>41.89</td>\n",
       "      <td>-87.67</td>\n",
       "      <td>casual</td>\n",
       "      <td>0 days 00:02:44</td>\n",
       "      <td>164.0</td>\n",
       "    </tr>\n",
       "    <tr>\n",
       "      <th>1</th>\n",
       "      <td>F930E2C6872D6B32</td>\n",
       "      <td>electric_bike</td>\n",
       "      <td>2021-09-28 14:24:51</td>\n",
       "      <td>2021-09-28 14:40:05</td>\n",
       "      <td>41.94</td>\n",
       "      <td>-87.64</td>\n",
       "      <td>41.98</td>\n",
       "      <td>-87.67</td>\n",
       "      <td>casual</td>\n",
       "      <td>0 days 00:15:14</td>\n",
       "      <td>914.0</td>\n",
       "    </tr>\n",
       "    <tr>\n",
       "      <th>2</th>\n",
       "      <td>6EF72137900BB910</td>\n",
       "      <td>electric_bike</td>\n",
       "      <td>2021-09-28 00:20:16</td>\n",
       "      <td>2021-09-28 00:23:57</td>\n",
       "      <td>41.81</td>\n",
       "      <td>-87.72</td>\n",
       "      <td>41.80</td>\n",
       "      <td>-87.72</td>\n",
       "      <td>casual</td>\n",
       "      <td>0 days 00:03:41</td>\n",
       "      <td>221.0</td>\n",
       "    </tr>\n",
       "    <tr>\n",
       "      <th>3</th>\n",
       "      <td>78D1DE133B3DBF55</td>\n",
       "      <td>electric_bike</td>\n",
       "      <td>2021-09-28 14:51:17</td>\n",
       "      <td>2021-09-28 15:00:06</td>\n",
       "      <td>41.80</td>\n",
       "      <td>-87.72</td>\n",
       "      <td>41.81</td>\n",
       "      <td>-87.72</td>\n",
       "      <td>casual</td>\n",
       "      <td>0 days 00:08:49</td>\n",
       "      <td>529.0</td>\n",
       "    </tr>\n",
       "    <tr>\n",
       "      <th>4</th>\n",
       "      <td>E03D4ACDCAEF6E00</td>\n",
       "      <td>electric_bike</td>\n",
       "      <td>2021-09-28 09:53:12</td>\n",
       "      <td>2021-09-28 10:03:44</td>\n",
       "      <td>41.88</td>\n",
       "      <td>-87.74</td>\n",
       "      <td>41.88</td>\n",
       "      <td>-87.71</td>\n",
       "      <td>casual</td>\n",
       "      <td>0 days 00:10:32</td>\n",
       "      <td>632.0</td>\n",
       "    </tr>\n",
       "  </tbody>\n",
       "</table>\n",
       "</div>"
      ],
      "text/plain": [
       "            ride_id  rideable_type          started_at            ended_at  \\\n",
       "0  9DC7B962304CBFD8  electric_bike 2021-09-28 16:07:10 2021-09-28 16:09:54   \n",
       "1  F930E2C6872D6B32  electric_bike 2021-09-28 14:24:51 2021-09-28 14:40:05   \n",
       "2  6EF72137900BB910  electric_bike 2021-09-28 00:20:16 2021-09-28 00:23:57   \n",
       "3  78D1DE133B3DBF55  electric_bike 2021-09-28 14:51:17 2021-09-28 15:00:06   \n",
       "4  E03D4ACDCAEF6E00  electric_bike 2021-09-28 09:53:12 2021-09-28 10:03:44   \n",
       "\n",
       "   start_lat  start_lng  end_lat  end_lng member_casual      total_time  \\\n",
       "0      41.89     -87.68    41.89   -87.67        casual 0 days 00:02:44   \n",
       "1      41.94     -87.64    41.98   -87.67        casual 0 days 00:15:14   \n",
       "2      41.81     -87.72    41.80   -87.72        casual 0 days 00:03:41   \n",
       "3      41.80     -87.72    41.81   -87.72        casual 0 days 00:08:49   \n",
       "4      41.88     -87.74    41.88   -87.71        casual 0 days 00:10:32   \n",
       "\n",
       "   total_seconds  \n",
       "0          164.0  \n",
       "1          914.0  \n",
       "2          221.0  \n",
       "3          529.0  \n",
       "4          632.0  "
      ]
     },
     "execution_count": 15,
     "metadata": {},
     "output_type": "execute_result"
    }
   ],
   "source": [
    "# converting dict to df\n",
    "total_seconds_df = pd.DataFrame.from_dict(total_time_dict)\n",
    "final_df = pd.concat([final_df,total_seconds_df], axis = 1)\n",
    "\n",
    "# checking final_df\n",
    "final_df.info()\n",
    "final_df.head()"
   ]
  },
  {
   "cell_type": "code",
   "execution_count": 16,
   "metadata": {},
   "outputs": [
    {
     "name": "stdout",
     "output_type": "stream",
     "text": [
      "<class 'pandas.core.frame.DataFrame'>\n",
      "Int64Index: 5951997 entries, 0 to 5946153\n",
      "Data columns (total 10 columns):\n",
      " #   Column         Dtype         \n",
      "---  ------         -----         \n",
      " 0   ride_id        object        \n",
      " 1   rideable_type  object        \n",
      " 2   started_at     datetime64[ns]\n",
      " 3   ended_at       datetime64[ns]\n",
      " 4   start_lat      float64       \n",
      " 5   start_lng      float64       \n",
      " 6   end_lat        float64       \n",
      " 7   end_lng        float64       \n",
      " 8   member_casual  object        \n",
      " 9   total_seconds  float64       \n",
      "dtypes: datetime64[ns](2), float64(5), object(3)\n",
      "memory usage: 499.5+ MB\n"
     ]
    },
    {
     "data": {
      "text/html": [
       "<div>\n",
       "<style scoped>\n",
       "    .dataframe tbody tr th:only-of-type {\n",
       "        vertical-align: middle;\n",
       "    }\n",
       "\n",
       "    .dataframe tbody tr th {\n",
       "        vertical-align: top;\n",
       "    }\n",
       "\n",
       "    .dataframe thead th {\n",
       "        text-align: right;\n",
       "    }\n",
       "</style>\n",
       "<table border=\"1\" class=\"dataframe\">\n",
       "  <thead>\n",
       "    <tr style=\"text-align: right;\">\n",
       "      <th></th>\n",
       "      <th>ride_id</th>\n",
       "      <th>rideable_type</th>\n",
       "      <th>started_at</th>\n",
       "      <th>ended_at</th>\n",
       "      <th>start_lat</th>\n",
       "      <th>start_lng</th>\n",
       "      <th>end_lat</th>\n",
       "      <th>end_lng</th>\n",
       "      <th>member_casual</th>\n",
       "      <th>total_seconds</th>\n",
       "    </tr>\n",
       "  </thead>\n",
       "  <tbody>\n",
       "    <tr>\n",
       "      <th>0</th>\n",
       "      <td>9DC7B962304CBFD8</td>\n",
       "      <td>electric_bike</td>\n",
       "      <td>2021-09-28 16:07:10</td>\n",
       "      <td>2021-09-28 16:09:54</td>\n",
       "      <td>41.89</td>\n",
       "      <td>-87.68</td>\n",
       "      <td>41.89</td>\n",
       "      <td>-87.67</td>\n",
       "      <td>casual</td>\n",
       "      <td>164.0</td>\n",
       "    </tr>\n",
       "    <tr>\n",
       "      <th>1</th>\n",
       "      <td>F930E2C6872D6B32</td>\n",
       "      <td>electric_bike</td>\n",
       "      <td>2021-09-28 14:24:51</td>\n",
       "      <td>2021-09-28 14:40:05</td>\n",
       "      <td>41.94</td>\n",
       "      <td>-87.64</td>\n",
       "      <td>41.98</td>\n",
       "      <td>-87.67</td>\n",
       "      <td>casual</td>\n",
       "      <td>914.0</td>\n",
       "    </tr>\n",
       "    <tr>\n",
       "      <th>2</th>\n",
       "      <td>6EF72137900BB910</td>\n",
       "      <td>electric_bike</td>\n",
       "      <td>2021-09-28 00:20:16</td>\n",
       "      <td>2021-09-28 00:23:57</td>\n",
       "      <td>41.81</td>\n",
       "      <td>-87.72</td>\n",
       "      <td>41.80</td>\n",
       "      <td>-87.72</td>\n",
       "      <td>casual</td>\n",
       "      <td>221.0</td>\n",
       "    </tr>\n",
       "    <tr>\n",
       "      <th>3</th>\n",
       "      <td>78D1DE133B3DBF55</td>\n",
       "      <td>electric_bike</td>\n",
       "      <td>2021-09-28 14:51:17</td>\n",
       "      <td>2021-09-28 15:00:06</td>\n",
       "      <td>41.80</td>\n",
       "      <td>-87.72</td>\n",
       "      <td>41.81</td>\n",
       "      <td>-87.72</td>\n",
       "      <td>casual</td>\n",
       "      <td>529.0</td>\n",
       "    </tr>\n",
       "    <tr>\n",
       "      <th>4</th>\n",
       "      <td>E03D4ACDCAEF6E00</td>\n",
       "      <td>electric_bike</td>\n",
       "      <td>2021-09-28 09:53:12</td>\n",
       "      <td>2021-09-28 10:03:44</td>\n",
       "      <td>41.88</td>\n",
       "      <td>-87.74</td>\n",
       "      <td>41.88</td>\n",
       "      <td>-87.71</td>\n",
       "      <td>casual</td>\n",
       "      <td>632.0</td>\n",
       "    </tr>\n",
       "  </tbody>\n",
       "</table>\n",
       "</div>"
      ],
      "text/plain": [
       "            ride_id  rideable_type          started_at            ended_at  \\\n",
       "0  9DC7B962304CBFD8  electric_bike 2021-09-28 16:07:10 2021-09-28 16:09:54   \n",
       "1  F930E2C6872D6B32  electric_bike 2021-09-28 14:24:51 2021-09-28 14:40:05   \n",
       "2  6EF72137900BB910  electric_bike 2021-09-28 00:20:16 2021-09-28 00:23:57   \n",
       "3  78D1DE133B3DBF55  electric_bike 2021-09-28 14:51:17 2021-09-28 15:00:06   \n",
       "4  E03D4ACDCAEF6E00  electric_bike 2021-09-28 09:53:12 2021-09-28 10:03:44   \n",
       "\n",
       "   start_lat  start_lng  end_lat  end_lng member_casual  total_seconds  \n",
       "0      41.89     -87.68    41.89   -87.67        casual          164.0  \n",
       "1      41.94     -87.64    41.98   -87.67        casual          914.0  \n",
       "2      41.81     -87.72    41.80   -87.72        casual          221.0  \n",
       "3      41.80     -87.72    41.81   -87.72        casual          529.0  \n",
       "4      41.88     -87.74    41.88   -87.71        casual          632.0  "
      ]
     },
     "execution_count": 16,
     "metadata": {},
     "output_type": "execute_result"
    }
   ],
   "source": [
    "final_df.drop(columns='total_time', axis = 1, inplace = True)\n",
    "final_df.info()\n",
    "final_df.head()"
   ]
  },
  {
   "cell_type": "markdown",
   "metadata": {},
   "source": [
    "Creating a new column with total distance travelled.  \n",
    "Formula for converting coordinates into distance using [haversine function](https://towardsdatascience.com/calculating-distance-between-two-geolocations-in-python-26ad3afe287b)  \n",
    "Using haversine library to convert the coordinates into distance.  \n",
    "By default haversine returns the distance in kms."
   ]
  },
  {
   "cell_type": "code",
   "execution_count": 17,
   "metadata": {},
   "outputs": [
    {
     "data": {
      "text/plain": [
       "'Improved loop in the code cells below'"
      ]
     },
     "execution_count": 17,
     "metadata": {},
     "output_type": "execute_result"
    }
   ],
   "source": [
    "'''Improved loop in the code cells below'''\n",
    "#iterating over dataframe to calulate the haversine function\n",
    "\n",
    "# for index, row in final_df.iterrows():\n",
    "    # calculating distance in miles\n",
    "    # loc1= (row['start_lat'], row['start_lng'] )\n",
    "    # loc2= (row['end_lat'], row['end_lng'] )\n",
    "    # final_df.at[index, 'total_distance_miles'] = hs.haversine(loc1, loc2, unit= Unit.MILES )\n",
    "     \n"
   ]
  },
  {
   "cell_type": "code",
   "execution_count": 18,
   "metadata": {},
   "outputs": [
    {
     "data": {
      "text/html": [
       "<div>\n",
       "<style scoped>\n",
       "    .dataframe tbody tr th:only-of-type {\n",
       "        vertical-align: middle;\n",
       "    }\n",
       "\n",
       "    .dataframe tbody tr th {\n",
       "        vertical-align: top;\n",
       "    }\n",
       "\n",
       "    .dataframe thead th {\n",
       "        text-align: right;\n",
       "    }\n",
       "</style>\n",
       "<table border=\"1\" class=\"dataframe\">\n",
       "  <thead>\n",
       "    <tr style=\"text-align: right;\">\n",
       "      <th></th>\n",
       "      <th>start_lat</th>\n",
       "      <th>start_lng</th>\n",
       "      <th>end_lat</th>\n",
       "      <th>end_lng</th>\n",
       "    </tr>\n",
       "  </thead>\n",
       "  <tbody>\n",
       "    <tr>\n",
       "      <th>0</th>\n",
       "      <td>41.89</td>\n",
       "      <td>-87.68</td>\n",
       "      <td>41.89</td>\n",
       "      <td>-87.67</td>\n",
       "    </tr>\n",
       "    <tr>\n",
       "      <th>1</th>\n",
       "      <td>41.94</td>\n",
       "      <td>-87.64</td>\n",
       "      <td>41.98</td>\n",
       "      <td>-87.67</td>\n",
       "    </tr>\n",
       "    <tr>\n",
       "      <th>2</th>\n",
       "      <td>41.81</td>\n",
       "      <td>-87.72</td>\n",
       "      <td>41.80</td>\n",
       "      <td>-87.72</td>\n",
       "    </tr>\n",
       "    <tr>\n",
       "      <th>3</th>\n",
       "      <td>41.80</td>\n",
       "      <td>-87.72</td>\n",
       "      <td>41.81</td>\n",
       "      <td>-87.72</td>\n",
       "    </tr>\n",
       "    <tr>\n",
       "      <th>4</th>\n",
       "      <td>41.88</td>\n",
       "      <td>-87.74</td>\n",
       "      <td>41.88</td>\n",
       "      <td>-87.71</td>\n",
       "    </tr>\n",
       "  </tbody>\n",
       "</table>\n",
       "</div>"
      ],
      "text/plain": [
       "   start_lat  start_lng  end_lat  end_lng\n",
       "0      41.89     -87.68    41.89   -87.67\n",
       "1      41.94     -87.64    41.98   -87.67\n",
       "2      41.81     -87.72    41.80   -87.72\n",
       "3      41.80     -87.72    41.81   -87.72\n",
       "4      41.88     -87.74    41.88   -87.71"
      ]
     },
     "execution_count": 18,
     "metadata": {},
     "output_type": "execute_result"
    }
   ],
   "source": [
    "#extracting just the lat and lng columns\n",
    "lat_lng_df = final_df[['start_lat','start_lng','end_lat','end_lng']]\n",
    "lat_lng_df.head()"
   ]
  },
  {
   "cell_type": "code",
   "execution_count": 19,
   "metadata": {},
   "outputs": [],
   "source": [
    "'''Using dictionary iteration'''\n",
    "distance_list = []\n",
    "\n",
    "for row in lat_lng_df.to_dict('records'):\n",
    "    distance_list.append(hs.haversine((row['start_lat'], row['start_lng'] ), (row['end_lat'], row['end_lng'] ), unit= Unit.MILES ))\n",
    "\n",
    "distance_dictionary = {\"distance_miles\": distance_list}       "
   ]
  },
  {
   "cell_type": "code",
   "execution_count": 20,
   "metadata": {},
   "outputs": [
    {
     "name": "stdout",
     "output_type": "stream",
     "text": [
      "<class 'pandas.core.frame.DataFrame'>\n",
      "Int64Index: 5952028 entries, 0 to 5951948\n",
      "Data columns (total 11 columns):\n",
      " #   Column          Dtype         \n",
      "---  ------          -----         \n",
      " 0   ride_id         object        \n",
      " 1   rideable_type   object        \n",
      " 2   started_at      datetime64[ns]\n",
      " 3   ended_at        datetime64[ns]\n",
      " 4   start_lat       float64       \n",
      " 5   start_lng       float64       \n",
      " 6   end_lat         float64       \n",
      " 7   end_lng         float64       \n",
      " 8   member_casual   object        \n",
      " 9   total_seconds   float64       \n",
      " 10  distance_miles  float64       \n",
      "dtypes: datetime64[ns](2), float64(6), object(3)\n",
      "memory usage: 544.9+ MB\n"
     ]
    },
    {
     "data": {
      "text/html": [
       "<div>\n",
       "<style scoped>\n",
       "    .dataframe tbody tr th:only-of-type {\n",
       "        vertical-align: middle;\n",
       "    }\n",
       "\n",
       "    .dataframe tbody tr th {\n",
       "        vertical-align: top;\n",
       "    }\n",
       "\n",
       "    .dataframe thead th {\n",
       "        text-align: right;\n",
       "    }\n",
       "</style>\n",
       "<table border=\"1\" class=\"dataframe\">\n",
       "  <thead>\n",
       "    <tr style=\"text-align: right;\">\n",
       "      <th></th>\n",
       "      <th>ride_id</th>\n",
       "      <th>rideable_type</th>\n",
       "      <th>started_at</th>\n",
       "      <th>ended_at</th>\n",
       "      <th>start_lat</th>\n",
       "      <th>start_lng</th>\n",
       "      <th>end_lat</th>\n",
       "      <th>end_lng</th>\n",
       "      <th>member_casual</th>\n",
       "      <th>total_seconds</th>\n",
       "      <th>distance_miles</th>\n",
       "    </tr>\n",
       "  </thead>\n",
       "  <tbody>\n",
       "    <tr>\n",
       "      <th>0</th>\n",
       "      <td>9DC7B962304CBFD8</td>\n",
       "      <td>electric_bike</td>\n",
       "      <td>2021-09-28 16:07:10</td>\n",
       "      <td>2021-09-28 16:09:54</td>\n",
       "      <td>41.89</td>\n",
       "      <td>-87.68</td>\n",
       "      <td>41.89</td>\n",
       "      <td>-87.67</td>\n",
       "      <td>casual</td>\n",
       "      <td>164.0</td>\n",
       "      <td>0.514351</td>\n",
       "    </tr>\n",
       "    <tr>\n",
       "      <th>1</th>\n",
       "      <td>F930E2C6872D6B32</td>\n",
       "      <td>electric_bike</td>\n",
       "      <td>2021-09-28 14:24:51</td>\n",
       "      <td>2021-09-28 14:40:05</td>\n",
       "      <td>41.94</td>\n",
       "      <td>-87.64</td>\n",
       "      <td>41.98</td>\n",
       "      <td>-87.67</td>\n",
       "      <td>casual</td>\n",
       "      <td>914.0</td>\n",
       "      <td>3.164496</td>\n",
       "    </tr>\n",
       "    <tr>\n",
       "      <th>2</th>\n",
       "      <td>6EF72137900BB910</td>\n",
       "      <td>electric_bike</td>\n",
       "      <td>2021-09-28 00:20:16</td>\n",
       "      <td>2021-09-28 00:23:57</td>\n",
       "      <td>41.81</td>\n",
       "      <td>-87.72</td>\n",
       "      <td>41.80</td>\n",
       "      <td>-87.72</td>\n",
       "      <td>casual</td>\n",
       "      <td>221.0</td>\n",
       "      <td>0.690934</td>\n",
       "    </tr>\n",
       "    <tr>\n",
       "      <th>3</th>\n",
       "      <td>78D1DE133B3DBF55</td>\n",
       "      <td>electric_bike</td>\n",
       "      <td>2021-09-28 14:51:17</td>\n",
       "      <td>2021-09-28 15:00:06</td>\n",
       "      <td>41.80</td>\n",
       "      <td>-87.72</td>\n",
       "      <td>41.81</td>\n",
       "      <td>-87.72</td>\n",
       "      <td>casual</td>\n",
       "      <td>529.0</td>\n",
       "      <td>0.690934</td>\n",
       "    </tr>\n",
       "    <tr>\n",
       "      <th>4</th>\n",
       "      <td>E03D4ACDCAEF6E00</td>\n",
       "      <td>electric_bike</td>\n",
       "      <td>2021-09-28 09:53:12</td>\n",
       "      <td>2021-09-28 10:03:44</td>\n",
       "      <td>41.88</td>\n",
       "      <td>-87.74</td>\n",
       "      <td>41.88</td>\n",
       "      <td>-87.71</td>\n",
       "      <td>casual</td>\n",
       "      <td>632.0</td>\n",
       "      <td>1.543294</td>\n",
       "    </tr>\n",
       "  </tbody>\n",
       "</table>\n",
       "</div>"
      ],
      "text/plain": [
       "            ride_id  rideable_type          started_at            ended_at  \\\n",
       "0  9DC7B962304CBFD8  electric_bike 2021-09-28 16:07:10 2021-09-28 16:09:54   \n",
       "1  F930E2C6872D6B32  electric_bike 2021-09-28 14:24:51 2021-09-28 14:40:05   \n",
       "2  6EF72137900BB910  electric_bike 2021-09-28 00:20:16 2021-09-28 00:23:57   \n",
       "3  78D1DE133B3DBF55  electric_bike 2021-09-28 14:51:17 2021-09-28 15:00:06   \n",
       "4  E03D4ACDCAEF6E00  electric_bike 2021-09-28 09:53:12 2021-09-28 10:03:44   \n",
       "\n",
       "   start_lat  start_lng  end_lat  end_lng member_casual  total_seconds  \\\n",
       "0      41.89     -87.68    41.89   -87.67        casual          164.0   \n",
       "1      41.94     -87.64    41.98   -87.67        casual          914.0   \n",
       "2      41.81     -87.72    41.80   -87.72        casual          221.0   \n",
       "3      41.80     -87.72    41.81   -87.72        casual          529.0   \n",
       "4      41.88     -87.74    41.88   -87.71        casual          632.0   \n",
       "\n",
       "   distance_miles  \n",
       "0        0.514351  \n",
       "1        3.164496  \n",
       "2        0.690934  \n",
       "3        0.690934  \n",
       "4        1.543294  "
      ]
     },
     "execution_count": 20,
     "metadata": {},
     "output_type": "execute_result"
    }
   ],
   "source": [
    "distance_df = pd.DataFrame.from_dict(distance_dictionary)\n",
    "# final_df['distance'] = distance_dictionary\n",
    "final_df = pd.concat([final_df, distance_df], axis=1)\n",
    "final_df.info()\n",
    "final_df.head()"
   ]
  },
  {
   "cell_type": "markdown",
   "metadata": {},
   "source": [
    "Distance_miles is the direct distance between the coordinates.  \n",
    "The distance may slightly vary on the map because it measures the distance betwween two coordinates.  "
   ]
  },
  {
   "cell_type": "code",
   "execution_count": 21,
   "metadata": {},
   "outputs": [
    {
     "name": "stdout",
     "output_type": "stream",
     "text": [
      "<class 'pandas.core.frame.DataFrame'>\n",
      "Int64Index: 5952028 entries, 0 to 5951948\n",
      "Data columns (total 11 columns):\n",
      " #   Column          Dtype         \n",
      "---  ------          -----         \n",
      " 0   ride_id         object        \n",
      " 1   rideable_type   object        \n",
      " 2   started_at      datetime64[ns]\n",
      " 3   ended_at        datetime64[ns]\n",
      " 4   start_lat       float64       \n",
      " 5   start_lng       float64       \n",
      " 6   end_lat         float64       \n",
      " 7   end_lng         float64       \n",
      " 8   member_casual   object        \n",
      " 9   total_seconds   float64       \n",
      " 10  distance_miles  float64       \n",
      "dtypes: datetime64[ns](2), float64(6), object(3)\n",
      "memory usage: 544.9+ MB\n"
     ]
    }
   ],
   "source": [
    "final_df.info()"
   ]
  },
  {
   "cell_type": "markdown",
   "metadata": {},
   "source": [
    "Checking the unique values in rideable_type."
   ]
  },
  {
   "cell_type": "code",
   "execution_count": 22,
   "metadata": {},
   "outputs": [
    {
     "data": {
      "text/plain": [
       "ride_id           4883\n",
       "rideable_type     4883\n",
       "started_at        4883\n",
       "ended_at          4883\n",
       "start_lat         4883\n",
       "start_lng         4883\n",
       "end_lat           4883\n",
       "end_lng           4883\n",
       "member_casual     4883\n",
       "total_seconds     4883\n",
       "distance_miles    4883\n",
       "dtype: int64"
      ]
     },
     "execution_count": 22,
     "metadata": {},
     "output_type": "execute_result"
    }
   ],
   "source": [
    "final_df.isna().sum()"
   ]
  },
  {
   "cell_type": "code",
   "execution_count": 23,
   "metadata": {},
   "outputs": [],
   "source": [
    "#dropping rows with all the nans\n",
    "final_df.dropna(inplace = True)\n"
   ]
  },
  {
   "cell_type": "code",
   "execution_count": 24,
   "metadata": {},
   "outputs": [
    {
     "data": {
      "text/plain": [
       "ride_id           0\n",
       "rideable_type     0\n",
       "started_at        0\n",
       "ended_at          0\n",
       "start_lat         0\n",
       "start_lng         0\n",
       "end_lat           0\n",
       "end_lng           0\n",
       "member_casual     0\n",
       "total_seconds     0\n",
       "distance_miles    0\n",
       "dtype: int64"
      ]
     },
     "execution_count": 24,
     "metadata": {},
     "output_type": "execute_result"
    }
   ],
   "source": [
    "final_df.isna().sum()"
   ]
  },
  {
   "cell_type": "code",
   "execution_count": 25,
   "metadata": {},
   "outputs": [
    {
     "name": "stdout",
     "output_type": "stream",
     "text": [
      "['electric_bike' 'classic_bike' 'docked_bike']\n",
      "['casual' 'member']\n"
     ]
    }
   ],
   "source": [
    "unique_rides = final_df['rideable_type'].unique()\n",
    "print(unique_rides)\n",
    "unique_member = final_df['member_casual'].unique()\n",
    "print(unique_member)"
   ]
  },
  {
   "cell_type": "code",
   "execution_count": 26,
   "metadata": {},
   "outputs": [
    {
     "name": "stdout",
     "output_type": "stream",
     "text": [
      "2021-03-01 00:01:09\n",
      "2021-03-01 00:06:28\n",
      "2022-03-31 23:59:47\n",
      "2022-04-01 22:10:12\n"
     ]
    }
   ],
   "source": [
    "# checkig min and max date in the final_df to see if there are any errors in the date.\n",
    "print(final_df.started_at.min())\n",
    "print(final_df.ended_at.min())\n",
    "print(final_df.started_at.max())\n",
    "print(final_df.ended_at.max())"
   ]
  },
  {
   "cell_type": "code",
   "execution_count": 27,
   "metadata": {},
   "outputs": [
    {
     "data": {
      "text/plain": [
       "'Pickle the final dataset for integrity after \\nthe data is clean'"
      ]
     },
     "execution_count": 27,
     "metadata": {},
     "output_type": "execute_result"
    }
   ],
   "source": [
    "'''Pickle the final dataset for integrity after \n",
    "the data is clean'''\n",
    "#storing the merged csv file with proper date format into a pickle\n",
    "# pickle_path = \"/Users/locco/Desktop/Google_Analytics_Course/Case_Studies/Data/pickle/main_pickle.pkl\"\n",
    "# date_df.to_pickle(pickle_path)\n",
    "#saving pickle into a dataframe\n",
    "# total_time_df = pd.read_pickle(pickle_path)"
   ]
  }
 ],
 "metadata": {
  "interpreter": {
   "hash": "4f611685c631f8c39fce300fe3b3beebd2fc2445dcf57e2ba3920040e4044f74"
  },
  "kernelspec": {
   "display_name": "Python 3.10.4 ('data_analysis')",
   "language": "python",
   "name": "python3"
  },
  "language_info": {
   "codemirror_mode": {
    "name": "ipython",
    "version": 3
   },
   "file_extension": ".py",
   "mimetype": "text/x-python",
   "name": "python",
   "nbconvert_exporter": "python",
   "pygments_lexer": "ipython3",
   "version": "3.10.4"
  },
  "orig_nbformat": 4
 },
 "nbformat": 4,
 "nbformat_minor": 2
}
